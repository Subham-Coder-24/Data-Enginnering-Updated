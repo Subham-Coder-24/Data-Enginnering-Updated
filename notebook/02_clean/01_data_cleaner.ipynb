{
 "cells": [
  {
   "cell_type": "code",
   "execution_count": 106,
   "metadata": {},
   "outputs": [],
   "source": [
    "input_folder = r'../../01_raw/genarated_data/'\n",
    "output_folder = r'../../02_clean/'"
   ]
  },
  {
   "cell_type": "code",
   "execution_count": 35,
   "metadata": {},
   "outputs": [
    {
     "name": "stdout",
     "output_type": "stream",
     "text": [
      "Requirement already satisfied: pytz in /Users/subhamswaruppradhan/Desktop/data-final-project/.env/lib/python3.12/site-packages (2024.2)\n",
      "\n",
      "\u001b[1m[\u001b[0m\u001b[34;49mnotice\u001b[0m\u001b[1;39;49m]\u001b[0m\u001b[39;49m A new release of pip is available: \u001b[0m\u001b[31;49m23.2.1\u001b[0m\u001b[39;49m -> \u001b[0m\u001b[32;49m24.2\u001b[0m\n",
      "\u001b[1m[\u001b[0m\u001b[34;49mnotice\u001b[0m\u001b[1;39;49m]\u001b[0m\u001b[39;49m To update, run: \u001b[0m\u001b[32;49mpip install --upgrade pip\u001b[0m\n",
      "Note: you may need to restart the kernel to use updated packages.\n"
     ]
    }
   ],
   "source": [
    "%pip install pytz"
   ]
  },
  {
   "cell_type": "markdown",
   "metadata": {},
   "source": [
    "Employee cleaning"
   ]
  },
  {
   "cell_type": "code",
   "execution_count": 107,
   "metadata": {},
   "outputs": [
    {
     "name": "stdout",
     "output_type": "stream",
     "text": [
      "Filtered data saved to ../../02_clean/filtered_employee.csv\n"
     ]
    }
   ],
   "source": [
    "import pandas as pd\n",
    "import os\n",
    "\n",
    "# Load the CSV file\n",
    "file_path = os.path.join(input_folder, 'employees.csv')\n",
    "df = pd.read_csv(file_path)\n",
    "\n",
    "# Convert all values in the DataFrame to strings\n",
    "df = df.astype(str)\n",
    "\n",
    "# Trim spaces from column names\n",
    "df.columns = df.columns.str.strip()\n",
    "\n",
    "# Trim spaces from every cell in the DataFrame using apply\n",
    "df = df.apply(lambda x: x.str.strip())\n",
    "\n",
    "# Select only the 'EmployeeID', 'Name', 'Email', 'Department', and 'Team' columns\n",
    "df = df[['EmployeeID', 'Name', 'Email', 'Department', 'Team']]\n",
    "\n",
    "# Define the output file path correctly\n",
    "output_file = os.path.join(output_folder, 'filtered_employee.csv')\n",
    "\n",
    "# Save the filtered data to a new CSV\n",
    "df.to_csv(output_file, index=False)\n",
    "\n",
    "print(f\"Filtered data saved to {output_file}\")\n"
   ]
  },
  {
   "cell_type": "markdown",
   "metadata": {},
   "source": [
    "Discussions cleaning"
   ]
  },
  {
   "cell_type": "code",
   "execution_count": 80,
   "metadata": {},
   "outputs": [
    {
     "name": "stdout",
     "output_type": "stream",
     "text": [
      "DiscussionID                           object\n",
      "Text                                   object\n",
      "PostDate         datetime64[ns, Asia/Kolkata]\n",
      "Parent_Dis_ID                          object\n",
      "EmployeeID                             object\n",
      "CourseID                               object\n",
      "dtype: object\n",
      "Filtered data saved to ../../02_clean/filtered_discussions.csv\n"
     ]
    }
   ],
   "source": [
    "import pandas as pd\n",
    "import os\n",
    "import pytz  \n",
    "import re  \n",
    "\n",
    "# Load the CSV file\n",
    "file_path = os.path.join(input_folder, 'discussions.csv')  # Replace with actual input path\n",
    "df = pd.read_csv(file_path)\n",
    "\n",
    "\n",
    "# Trim spaces from column names\n",
    "df.columns = df.columns.str.strip()\n",
    "\n",
    "for column in df.columns:\n",
    "    df[column] = df[column].astype(str)\n",
    "\n",
    "# Convert all cell to string and trim spaces\n",
    "df = df.astype(str).apply(lambda x: x.str.strip())\n",
    "\n",
    "\n",
    "\n",
    "# Convert 'PostDate' to date format\n",
    "df['PostDate'] = pd.to_datetime(df['PostDate'], errors='coerce')\n",
    "\n",
    "# Convert 'PostDate' to Indian Standard Time (IST)\n",
    "ist = pytz.timezone('Asia/Kolkata')  # Define IST timezone\n",
    "df['PostDate'] = df['PostDate'].dt.tz_localize('UTC').dt.tz_convert(ist)\n",
    "\n",
    "\n",
    "# Clean 'Parent_Dis_ID' column\n",
    "def extract_integer(value):\n",
    "    # Remove any non-digit characters except for decimal points\n",
    "    cleaned_value = re.sub(r'[^\\d.]', '', value)\n",
    "    # Try converting to float and then to int, if possible\n",
    "    try:\n",
    "        return int(float(cleaned_value)) if cleaned_value else ''  # Return 0 for empty values\n",
    "    except ValueError:\n",
    "        return ''  # Return 0 if conversion fails\n",
    "\n",
    "# Apply the function to the 'Parent_Dis_ID' column\n",
    "df['Parent_Dis_ID'] = df['Parent_Dis_ID'].apply(extract_integer)\n",
    "\n",
    "\n",
    "print(df.dtypes) \n",
    "\n",
    "# Define the output file path\n",
    "output_file = os.path.join(output_folder, 'filtered_discussions.csv')  # Replace with actual output path\n",
    "\n",
    "# Save the filtered data to a new CSV\n",
    "df.to_csv(output_file, index=False)\n",
    "\n",
    "print(f\"Filtered data saved to {output_file}\")\n"
   ]
  },
  {
   "cell_type": "markdown",
   "metadata": {},
   "source": [
    "Courses\n"
   ]
  },
  {
   "cell_type": "code",
   "execution_count": 104,
   "metadata": {},
   "outputs": [
    {
     "name": "stdout",
     "output_type": "stream",
     "text": [
      "Filtered data saved to ../../02_clean/filtered_courses.csv\n"
     ]
    }
   ],
   "source": [
    "import pandas as pd\n",
    "\n",
    "# Load the CSV file\n",
    "file_path = os.path.join(input_folder, 'courses.csv') \n",
    "df = pd.read_csv(file_path)\n",
    "\n",
    "\n",
    "# Trim spaces from column names\n",
    "df.columns = df.columns.str.strip()\n",
    "\n",
    "for column in df.columns:\n",
    "    df[column] = df[column].astype(str)\n",
    "\n",
    "# Convert all cell to string and trim spaces\n",
    "df = df.astype(str).apply(lambda x: x.str.strip())\n",
    "\n",
    "\n",
    "# Select the required columns: 'CourseID', 'CourseName', 'CourseDescription', 'CreationDate', 'Author', 'Image', 'Quiz'\n",
    "filtered_df = df[['CourseID', 'CourseName', 'CourseDescription', 'CreationDate', 'Author', 'Quiz']]\n",
    "\n",
    "# Typecast all fields except 'CreationDate' to string\n",
    "filtered_df = filtered_df.astype({\n",
    "    'CourseID': str, \n",
    "    'CourseName': str, \n",
    "    'CourseDescription': str, \n",
    "    'Author': str, \n",
    "    'Quiz': str\n",
    "})\n",
    "\n",
    "\n",
    "# Convert 'CreationDate' to date format\n",
    "filtered_df['CreationDate'] = pd.to_datetime(filtered_df['CreationDate'], errors='coerce')\n",
    "\n",
    "# Convert 'CreationDate' to Indian Standard Time (IST)\n",
    "ist = pytz.timezone('Asia/Kolkata')  # Define IST timezone\n",
    "filtered_df['CreationDate'] = filtered_df['CreationDate'].dt.tz_localize('UTC').dt.tz_convert(ist)\n",
    "\n",
    "\n",
    "# Clean 'Quiz' column to replace NaN with empty strings\n",
    "filtered_df['Quiz'] = filtered_df['Quiz'].fillna('')  # Replace NaN with empty string\n",
    "\n",
    "# Ensure that any additional cleaning for Quiz can be done here\n",
    "filtered_df['Quiz'] = filtered_df['Quiz'].apply(lambda x: '' if x == 'nan' else x)  # Optional: handle 'nan' as a string\n",
    "\n",
    "\n",
    "# Save the filtered data to a new CSV in another folder\n",
    "output_folder = os.path.join(output_folder,'filtered_courses.csv')  # Replace with the actual output path\n",
    "filtered_df.to_csv(output_folder, index=False)\n",
    "\n",
    "print(f\"Filtered data saved to {output_folder}\")\n"
   ]
  },
  {
   "cell_type": "code",
   "execution_count": 121,
   "metadata": {},
   "outputs": [],
   "source": [
    "input_folder = r'../../01_raw/genarated_data/'\n",
    "output_folder = r'../../02_clean/'"
   ]
  },
  {
   "cell_type": "markdown",
   "metadata": {},
   "source": [
    "engagements"
   ]
  },
  {
   "cell_type": "code",
   "execution_count": 112,
   "metadata": {},
   "outputs": [
    {
     "name": "stdout",
     "output_type": "stream",
     "text": [
      "Filtered data saved to ../../02_clean/filtered_engagements.csv\n"
     ]
    }
   ],
   "source": [
    "import pandas as pd\n",
    "import os\n",
    "import pytz  \n",
    "import re  \n",
    "\n",
    "# Load the CSV file\n",
    "file_path = os.path.join(input_folder,'engagements.csv')  # Replace with the actual file path\n",
    "df = pd.read_csv(file_path)\n",
    "\n",
    "\n",
    "# Trim spaces from column names\n",
    "df.columns = df.columns.str.strip()\n",
    "\n",
    "for column in df.columns:\n",
    "    df[column] = df[column].astype(str)\n",
    "\n",
    "# Convert all cell to string and trim spaces\n",
    "filtered_df = df.astype(str).apply(lambda x: x.str.strip())\n",
    "\n",
    "\n",
    "filtered_df['TimeStart'] = pd.to_datetime(filtered_df['TimeStart'], errors='coerce')\n",
    "ist = pytz.timezone('Asia/Kolkata')  # Define IST timezone\n",
    "filtered_df['TimeStart'] = filtered_df['TimeStart'].dt.tz_localize('UTC').dt.tz_convert(ist)\n",
    "\n",
    "filtered_df['TimeEnd'] = pd.to_datetime(filtered_df['TimeEnd'], errors='coerce')\n",
    "ist = pytz.timezone('Asia/Kolkata')  # Define IST timezone\n",
    "filtered_df['TimeEnd'] = filtered_df['TimeEnd'].dt.tz_localize('UTC').dt.tz_convert(ist)\n",
    "\n",
    "\n",
    "# Convert 'TimeSpent' to integer\n",
    "filtered_df['TimeSpent'] = pd.to_numeric(filtered_df['TimeSpent'], errors='coerce').fillna(0).astype(int)\n",
    "\n",
    "\n",
    "# Save the filtered data to a new CSV in another folder\n",
    "output_folder = os.path.join(output_folder,'filtered_engagements.csv')  # Replace with the actual output path\n",
    "filtered_df.to_csv(output_folder, index=False)\n",
    "\n",
    "print(f\"Filtered data saved to {output_folder}\")\n"
   ]
  },
  {
   "cell_type": "markdown",
   "metadata": {},
   "source": [
    "Enrollment"
   ]
  },
  {
   "cell_type": "code",
   "execution_count": 114,
   "metadata": {},
   "outputs": [
    {
     "name": "stdout",
     "output_type": "stream",
     "text": [
      "0    93.69\n",
      "1    17.23\n",
      "2    99.06\n",
      "3         \n",
      "4    10.67\n",
      "Name: QuizScore, dtype: object\n",
      "Filtered data saved to ../../02_clean/filtered_enrollments.csv\n"
     ]
    }
   ],
   "source": [
    "import pandas as pd\n",
    "\n",
    "# Load the CSV file\n",
    "file_path = os.path.join(input_folder,'enrollments.csv')  # Replace with the actual file path\n",
    "df = pd.read_csv(file_path)\n",
    "\n",
    "# Trim spaces from column names\n",
    "df.columns = df.columns.str.strip()\n",
    "\n",
    "for column in df.columns:\n",
    "    df[column] = df[column].astype(str)\n",
    "\n",
    "# Convert all cell to string and trim spaces\n",
    "filtered_df = df.astype(str).apply(lambda x: x.str.strip())\n",
    "\n",
    "filtered_df['EnrollDate'] = pd.to_datetime(filtered_df['EnrollDate'], errors='coerce')\n",
    "ist = pytz.timezone('Asia/Kolkata')  # Define IST timezone\n",
    "filtered_df['EnrollDate'] = filtered_df['EnrollDate'].dt.tz_localize('UTC').dt.tz_convert(ist)\n",
    "\n",
    "\n",
    "\n",
    "# Function to convert values to float, keeping empty strings\n",
    "def convert_to_float(value):\n",
    "    if value == '': \n",
    "        return ''    \n",
    "    try:\n",
    "        return float(value)  \n",
    "    except ValueError:\n",
    "        return ''  \n",
    "\n",
    "# Apply the function to the 'QuizScore' column\n",
    "filtered_df['QuizScore'] = filtered_df['QuizScore'].apply(convert_to_float)\n",
    "\n",
    "# Check the output\n",
    "print(filtered_df['QuizScore'].head())\n",
    "# Save the filtered data to a new CSV in another folder\n",
    "output_folder = os.path.join(output_folder,'filtered_enrollments.csv')  # Replace with the actual output path\n",
    "filtered_df.to_csv(output_folder, index=False)\n",
    "\n",
    "print(f\"Filtered data saved to {output_folder}\")\n"
   ]
  },
  {
   "cell_type": "markdown",
   "metadata": {},
   "source": [
    "Feedback"
   ]
  },
  {
   "cell_type": "code",
   "execution_count": 120,
   "metadata": {},
   "outputs": [
    {
     "name": "stdout",
     "output_type": "stream",
     "text": [
      "Filtered data saved to ../../02_clean/filtered_feedback.csv\n"
     ]
    }
   ],
   "source": [
    "import pandas as pd\n",
    "\n",
    "# Load the CSV file\n",
    "file_path = os.path.join(input_folder,'feedbacks.csv')  # Replace with the actual file path\n",
    "df = pd.read_csv(file_path)\n",
    "\n",
    "# Trim spaces from column names\n",
    "df.columns = df.columns.str.strip()\n",
    "\n",
    "for column in df.columns:\n",
    "    df[column] = df[column].astype(str)\n",
    "\n",
    "# Convert all cell to string and trim spaces\n",
    "filtered_df = df.astype(str).apply(lambda x: x.str.strip())\n",
    "\n",
    "\n",
    "# Function to convert values to float, keeping empty strings\n",
    "def convert_to_int(value):\n",
    "    if value == '': \n",
    "        return ''    \n",
    "    try:\n",
    "        return int(value)  \n",
    "    except ValueError:\n",
    "        return ''  \n",
    "\n",
    "# Apply the function to the 'QuizScore' column\n",
    "filtered_df['Rating'] = filtered_df['Rating'].apply(convert_to_int)\n",
    "\n",
    "# Save the filtered data to a new CSV in another folder\n",
    "output_folder = os.path.join(output_folder,'filtered_feedback.csv')  # Replace with the actual output path\n",
    "filtered_df.to_csv(output_folder, index=False)\n",
    "\n",
    "print(f\"Filtered data saved to {output_folder}\")\n"
   ]
  },
  {
   "cell_type": "markdown",
   "metadata": {},
   "source": [
    "Modules"
   ]
  },
  {
   "cell_type": "code",
   "execution_count": 122,
   "metadata": {},
   "outputs": [
    {
     "name": "stdout",
     "output_type": "stream",
     "text": [
      "Filtered data saved to ../../02_clean/filtered_modules.csv\n"
     ]
    }
   ],
   "source": [
    "import pandas as pd\n",
    "\n",
    "# Load the CSV file\n",
    "file_path = os.path.join(input_folder,'modules.csv')  # Replace with the actual file path\n",
    "df = pd.read_csv(file_path)\n",
    "\n",
    "# Trim spaces from column names\n",
    "df.columns = df.columns.str.strip()\n",
    "\n",
    "for column in df.columns:\n",
    "    df[column] = df[column].astype(str)\n",
    "\n",
    "# Convert all cell to string and trim spaces\n",
    "filtered_df = df.astype(str).apply(lambda x: x.str.strip())\n",
    "\n",
    "# Save the filtered data to a new CSV in another folder\n",
    "output_folder = os.path.join(output_folder,'filtered_modules.csv')  # Replace with the actual output path\n",
    "filtered_df.to_csv(output_folder, index=False)\n",
    "\n",
    "print(f\"Filtered data saved to {output_folder}\")\n"
   ]
  }
 ],
 "metadata": {
  "kernelspec": {
   "display_name": "myenv",
   "language": "python",
   "name": "python3"
  },
  "language_info": {
   "codemirror_mode": {
    "name": "ipython",
    "version": 3
   },
   "file_extension": ".py",
   "mimetype": "text/x-python",
   "name": "python",
   "nbconvert_exporter": "python",
   "pygments_lexer": "ipython3",
   "version": "3.12.1"
  }
 },
 "nbformat": 4,
 "nbformat_minor": 2
}
