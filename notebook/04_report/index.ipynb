{
 "cells": [
  {
   "cell_type": "markdown",
   "metadata": {},
   "source": [
    "For every course how much employee enrolled"
   ]
  },
  {
   "cell_type": "code",
   "execution_count": 3,
   "metadata": {},
   "outputs": [],
   "source": [
    "input_folder = r'../../03_load/'\n",
    "output_folder = r'../../04_report/'"
   ]
  },
  {
   "cell_type": "markdown",
   "metadata": {},
   "source": [
    "Total employee enrollment in every course"
   ]
  },
  {
   "cell_type": "code",
   "execution_count": 4,
   "metadata": {},
   "outputs": [
    {
     "name": "stdout",
     "output_type": "stream",
     "text": [
      "Grouped Data by CourseID with Unique Employee Count:\n",
      "    CourseID  TotalEnrolledEmployeeCount\n",
      "0          1                          11\n",
      "1          2                          10\n",
      "2          3                           3\n",
      "3          4                          11\n",
      "4          5                           7\n",
      "..       ...                         ...\n",
      "95        96                          11\n",
      "96        97                          13\n",
      "97        98                          13\n",
      "98        99                          12\n",
      "99       100                          13\n",
      "\n",
      "[100 rows x 2 columns]\n",
      "Grouped data saved to ../../04_report/employee_enroll_every_course.csv\n"
     ]
    }
   ],
   "source": [
    "import pandas as pd\n",
    "import os\n",
    "\n",
    "# Load the enrollment data (replace with your actual path)\n",
    "enrollment_path = os.path.join(input_folder,'enrollments.csv') \n",
    "enrollment_data = pd.read_csv(enrollment_path)\n",
    "\n",
    "\n",
    "# Group by CourseID and count unique EmployeeID\n",
    "grouped_data = enrollment_data.groupby('CourseID')['EmployeeID'].nunique().reset_index()\n",
    "\n",
    "# Rename the columns for clarity\n",
    "grouped_data.columns = ['CourseID', 'TotalEnrolledEmployeeCount']\n",
    "\n",
    "# Display the result\n",
    "print(\"Grouped Data by CourseID with Unique Employee Count:\")\n",
    "print(grouped_data)\n",
    "\n",
    "# Save the grouped data to CSV if needed\n",
    "output_path = os.path.join(output_folder,'employee_enroll_every_course.csv')\n",
    "grouped_data.to_csv(output_path, index=False)\n",
    "\n",
    "print(f\"Grouped data saved to {output_path}\")\n"
   ]
  },
  {
   "cell_type": "markdown",
   "metadata": {},
   "source": [
    "Average quiz score per course."
   ]
  },
  {
   "cell_type": "code",
   "execution_count": 10,
   "metadata": {},
   "outputs": [
    {
     "name": "stdout",
     "output_type": "stream",
     "text": [
      "Top 10 Courses by Average Quiz Score:\n",
      "    CourseID  AverageQuizScore\n",
      "82        83             75.98\n",
      "32        33             71.49\n",
      "26        27             68.44\n",
      "67        68             68.26\n",
      "35        36             67.89\n",
      "49        50             67.83\n",
      "1          2             67.44\n",
      "20        21             66.71\n",
      "96        97             66.31\n",
      "13        14             65.27\n",
      "Average quiz scores saved to ../../04_report/Top_10_Courses_by_Quiz_Score.csv\n"
     ]
    }
   ],
   "source": [
    "import pandas as pd\n",
    "import os\n",
    "\n",
    "# Define input and output folders\n",
    "input_folder = r'../../03_load/'\n",
    "output_folder = r'../../04_report/'\n",
    "\n",
    "# Load the enrollment data (replace with your actual path)\n",
    "enrollment_path = os.path.join(input_folder, 'enrollments.csv') \n",
    "enrollment_data = pd.read_csv(enrollment_path)\n",
    "\n",
    "# Group by CourseID and calculate the average quiz score (ignoring null quiz scores)\n",
    "average_quiz_score = enrollment_data.groupby('CourseID')['QuizScore'].mean().J()\n",
    "\n",
    "# Rename the columns for clarity\n",
    "average_quiz_score.columns = ['CourseID', 'AverageQuizScore']\n",
    "\n",
    "# Round the average quiz score to 2 decimal places\n",
    "average_quiz_score['AverageQuizScore'] = average_quiz_score['AverageQuizScore'].round(2)\n",
    "\n",
    "# Sort by AverageQuizScore in descending order (optional, if you want to see top courses)\n",
    "top_courses_by_quiz_score = average_quiz_score.sort_values(by='AverageQuizScore', ascending=False).head(10)\n",
    "\n",
    "# Display the top 10 courses by quiz score\n",
    "print(\"Top 10 Courses by Average Quiz Score:\")\n",
    "print(top_courses_by_quiz_score)\n",
    "\n",
    "# Save the result to a CSV file if needed\n",
    "output_path = os.path.join(output_folder, 'Average_quiz_score_per_course.csv')\n",
    "average_quiz_score.to_csv(output_path, index=False)\n",
    "\n",
    "print(f\"Average quiz scores saved to {output_path}\")\n"
   ]
  },
  {
   "cell_type": "markdown",
   "metadata": {},
   "source": [
    "Top 3 employee for every course"
   ]
  },
  {
   "cell_type": "code",
   "execution_count": 5,
   "metadata": {},
   "outputs": [
    {
     "name": "stdout",
     "output_type": "stream",
     "text": [
      "Top 3 Quiz Scores for Each Course:\n",
      "     EnrollmentID                 EnrollDate  QuizScore  EmployeeID  CourseID\n",
      "0             718  2021-03-17 05:30:00+05:30      83.57         901         1\n",
      "1             385  2023-10-18 05:30:00+05:30      80.89         176         1\n",
      "2             683  2021-05-25 05:30:00+05:30      77.03         781         1\n",
      "3             404  2021-11-18 05:30:00+05:30      96.52         864         2\n",
      "4             345  2023-04-11 05:30:00+05:30      94.53         595         2\n",
      "..            ...                        ...        ...         ...       ...\n",
      "295           230  2023-11-01 05:30:00+05:30      87.16         633        99\n",
      "296           572  2022-09-25 05:30:00+05:30      76.40         402        99\n",
      "297           981  2024-05-31 05:30:00+05:30      98.10         442       100\n",
      "298           424  2021-09-30 05:30:00+05:30      83.89         794       100\n",
      "299           229  2022-12-09 05:30:00+05:30      74.76         454       100\n",
      "\n",
      "[300 rows x 5 columns]\n",
      "Top 3 quiz scores saved to ../../04_report/Top_3_employee_every_course.csv\n"
     ]
    },
    {
     "name": "stderr",
     "output_type": "stream",
     "text": [
      "/var/folders/n0/_jpdd4w14xs65xlbhq9gzz7w0000gn/T/ipykernel_68175/2728276989.py:11: DeprecationWarning: DataFrameGroupBy.apply operated on the grouping columns. This behavior is deprecated, and in a future version of pandas the grouping columns will be excluded from the operation. Either pass `include_groups=False` to exclude the groupings or explicitly select the grouping columns after groupby to silence this warning.\n",
      "  top_quizzes = enrollment_data.groupby('CourseID').apply(lambda x: x.nlargest(3, 'QuizScore')).reset_index(drop=True)\n"
     ]
    }
   ],
   "source": [
    "import pandas as pd\n",
    "\n",
    "# Load the enrollment data (replace with your actual path)\n",
    "enrollment_path = os.path.join(input_folder,'enrollments.csv') \n",
    "enrollment_data = pd.read_csv(enrollment_path)\n",
    "\n",
    "# Clean column names by removing leading/trailing spaces\n",
    "enrollment_data.columns = enrollment_data.columns.str.strip()\n",
    "\n",
    "# Group by CourseID and get the top 3 QuizScore for each course\n",
    "top_quizzes = enrollment_data.groupby('CourseID').apply(lambda x: x.nlargest(3, 'QuizScore')).reset_index(drop=True)\n",
    "\n",
    "# Display the result\n",
    "print(\"Top 3 Quiz Scores for Each Course:\")\n",
    "print(top_quizzes)\n",
    "\n",
    "# Save the top 3 quiz scores to CSV if needed\n",
    "output_path = os.path.join(output_folder,'Top_3_employee_every_course.csv')\n",
    "top_quizzes.to_csv(output_path, index=False)\n",
    "\n",
    "print(f\"Top 3 quiz scores saved to {output_path}\")\n"
   ]
  },
  {
   "cell_type": "markdown",
   "metadata": {},
   "source": [
    "Top 10 Courses by rating"
   ]
  },
  {
   "cell_type": "code",
   "execution_count": 7,
   "metadata": {},
   "outputs": [
    {
     "name": "stdout",
     "output_type": "stream",
     "text": [
      "Top 10 Courses by Average Rating:\n",
      "    CourseID  AverageRating\n",
      "70        72           5.00\n",
      "97        99           4.75\n",
      "42        44           4.33\n",
      "22        23           4.25\n",
      "48        50           4.20\n",
      "10        11           4.17\n",
      "55        57           4.00\n",
      "91        93           4.00\n",
      "61        63           4.00\n",
      "37        39           4.00\n",
      "Top 10 courses saved to ../../04_report/Top_10_Courses_by_Rating.csv\n"
     ]
    }
   ],
   "source": [
    "import pandas as pd\n",
    "\n",
    "# Load the feedback data (replace with your actual path)\n",
    "feedback_path = os.path.join(input_folder,'feedback.csv') \n",
    "feedback_data = pd.read_csv(feedback_path)\n",
    "\n",
    "\n",
    "# Group by CourseID and calculate the average rating\n",
    "average_rating = feedback_data.groupby('CourseID')['Rating'].mean().reset_index()\n",
    "\n",
    "# Rename the columns for clarity\n",
    "average_rating.columns = ['CourseID', 'AverageRating']\n",
    "\n",
    "# Round the average rating to 2 decimal places\n",
    "average_rating['AverageRating'] = average_rating['AverageRating'].round(2)\n",
    "\n",
    "# Sort by AverageRating in descending order\n",
    "top_courses = average_rating.sort_values(by='AverageRating', ascending=False).head(10)\n",
    "\n",
    "# Display the top 10 courses by rating\n",
    "print(\"Top 10 Courses by Average Rating:\")\n",
    "print(top_courses)\n",
    "\n",
    "# Save the top courses to a CSV file if needed\n",
    "output_path = os.path.join(output_folder,'Top_10_Courses_by_Rating.csv')\n",
    "top_courses.to_csv(output_path, index=False)\n",
    "\n",
    "print(f\"Top 10 courses saved to {output_path}\")\n"
   ]
  },
  {
   "cell_type": "code",
   "execution_count": null,
   "metadata": {},
   "outputs": [],
   "source": []
  }
 ],
 "metadata": {
  "kernelspec": {
   "display_name": "myenv",
   "language": "python",
   "name": "python3"
  },
  "language_info": {
   "codemirror_mode": {
    "name": "ipython",
    "version": 3
   },
   "file_extension": ".py",
   "mimetype": "text/x-python",
   "name": "python",
   "nbconvert_exporter": "python",
   "pygments_lexer": "ipython3",
   "version": "3.12.1"
  }
 },
 "nbformat": 4,
 "nbformat_minor": 2
}
