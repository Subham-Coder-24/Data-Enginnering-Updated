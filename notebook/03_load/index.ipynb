{
 "cells": [
  {
   "cell_type": "code",
   "execution_count": 11,
   "metadata": {},
   "outputs": [],
   "source": [
    "import pandas as pd\n"
   ]
  },
  {
   "cell_type": "code",
   "execution_count": 1,
   "metadata": {},
   "outputs": [
    {
     "name": "stdout",
     "output_type": "stream",
     "text": [
      "File 'cleaned_employee.csv' renamed to 'employee.csv' and moved to the output folder.\n",
      "File 'cleaned_courses.csv' renamed to 'courses.csv' and moved to the output folder.\n",
      "File 'cleaned_feedback.csv' renamed to 'feedback.csv' and moved to the output folder.\n",
      "File 'cleaned_discussions.csv' renamed to 'discussions.csv' and moved to the output folder.\n",
      "File 'cleaned_modules.csv' renamed to 'modules.csv' and moved to the output folder.\n",
      "File 'cleaned_engagements.csv' renamed to 'engagements.csv' and moved to the output folder.\n",
      "File 'cleaned_enrollments.csv' renamed to 'enrollments.csv' and moved to the output folder.\n",
      "All files have been renamed and moved successfully!\n"
     ]
    }
   ],
   "source": [
    "import os\n",
    "import shutil\n",
    "\n",
    "# Define input and output folders\n",
    "input_folder = r'../../02_clean/'\n",
    "output_folder = r'../../03_load/'\n",
    "\n",
    "# Step 1: Ensure output folder exists, if not, create it\n",
    "if not os.path.exists(output_folder):\n",
    "    os.makedirs(output_folder)\n",
    "\n",
    "# Step 2: List all files in the input folder\n",
    "files = os.listdir(input_folder)\n",
    "\n",
    "# Step 3: Loop through each file\n",
    "for file_name in files:\n",
    "    # Check if the file name starts with 'cleaned_'\n",
    "    if file_name.startswith('cleaned_'):\n",
    "        # Remove the 'cleaned_' prefix from the file name\n",
    "        new_file_name = file_name.replace('cleaned_', '', 1)\n",
    "        \n",
    "        # Define full input and output file paths\n",
    "        input_file_path = os.path.join(input_folder, file_name)\n",
    "        output_file_path = os.path.join(output_folder, new_file_name)\n",
    "        \n",
    "        # Step 4: Copy the file from input to output with the new name\n",
    "        shutil.copy(input_file_path, output_file_path)\n",
    "        print(f\"File '{file_name}' renamed to '{new_file_name}' and moved to the output folder.\")\n",
    "\n",
    "print(\"All files have been renamed and moved successfully!\")\n"
   ]
  },
  {
   "cell_type": "code",
   "execution_count": null,
   "metadata": {},
   "outputs": [],
   "source": []
  }
 ],
 "metadata": {
  "kernelspec": {
   "display_name": "myenv",
   "language": "python",
   "name": "python3"
  },
  "language_info": {
   "codemirror_mode": {
    "name": "ipython",
    "version": 3
   },
   "file_extension": ".py",
   "mimetype": "text/x-python",
   "name": "python",
   "nbconvert_exporter": "python",
   "pygments_lexer": "ipython3",
   "version": "3.12.1"
  }
 },
 "nbformat": 4,
 "nbformat_minor": 2
}
